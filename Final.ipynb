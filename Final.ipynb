{
 "cells": [
  {
   "cell_type": "markdown",
   "metadata": {
    "id": "25YJuFLwNdMQ"
   },
   "source": [
    "### Imports"
   ]
  },
  {
   "cell_type": "code",
   "execution_count": 40,
   "metadata": {
    "id": "V0X-3OhuaG_r"
   },
   "outputs": [],
   "source": [
    "import numpy as np\n",
    "import pandas as pd\n",
    "import matplotlib.pyplot as plt\n",
    "import seaborn as sns \n",
    "from sklearn.linear_model import LogisticRegression\n",
    "import sklearn.naive_bayes as naive_bayes\n",
    "from sklearn.ensemble import AdaBoostClassifier\n",
    "from sklearn.tree import DecisionTreeClassifier\n",
    "from sklearn.ensemble import BaggingClassifier\n",
    "from sklearn.decomposition import TruncatedSVD\n",
    "from sklearn.model_selection import train_test_split\n",
    "from sklearn import metrics\n",
    "from sklearn.preprocessing import PolynomialFeatures\n",
    "from sklearn.preprocessing import StandardScaler\n",
    "from sklearn.pipeline import make_pipeline \n",
    "from sklearn import preprocessing\n",
    "from sklearn.naive_bayes import GaussianNB, BernoulliNB\n",
    "from google.colab import files\n",
    "from sklearn.decomposition import PCA\n",
    "from sklearn.feature_extraction.text import CountVectorizer\n",
    "from sklearn.feature_extraction.text import TfidfVectorizer\n",
    "import sklearn.svm as svm \n",
    "from sklearn.svm import SVC\n",
    "from sklearn.model_selection import GridSearchCV\n",
    "from sklearn.model_selection import RandomizedSearchCV\n",
    "from sklearn.preprocessing import LabelEncoder\n",
    "import nltk\n",
    "import string\n",
    "import re "
   ]
  },
  {
   "cell_type": "code",
   "execution_count": 41,
   "metadata": {
    "colab": {
     "base_uri": "https://localhost:8080/"
    },
    "id": "DLqoMTAenuMv",
    "outputId": "0ae6a96e-a243-4833-a5b7-231c297ca722"
   },
   "outputs": [
    {
     "name": "stdout",
     "output_type": "stream",
     "text": [
      "[nltk_data] Downloading package stopwords to /root/nltk_data...\n",
      "[nltk_data]   Package stopwords is already up-to-date!\n",
      "[nltk_data] Downloading package wordnet to /root/nltk_data...\n",
      "[nltk_data]   Package wordnet is already up-to-date!\n"
     ]
    },
    {
     "data": {
      "text/plain": [
       "True"
      ]
     },
     "execution_count": 41,
     "metadata": {},
     "output_type": "execute_result"
    }
   ],
   "source": [
    "nltk.download('stopwords') \n",
    "nltk.download('wordnet') "
   ]
  },
  {
   "cell_type": "markdown",
   "metadata": {
    "id": "BM4u8_wgNiQl"
   },
   "source": [
    "### Reading Data"
   ]
  },
  {
   "cell_type": "code",
   "execution_count": 42,
   "metadata": {
    "colab": {
     "base_uri": "https://localhost:8080/"
    },
    "id": "iHCWyqJabvR9",
    "outputId": "1393fc53-dd56-46e8-ea1f-5805a011aa96"
   },
   "outputs": [
    {
     "name": "stdout",
     "output_type": "stream",
     "text": [
      "Drive already mounted at /content/drive; to attempt to forcibly remount, call drive.mount(\"/content/drive\", force_remount=True).\n"
     ]
    }
   ],
   "source": [
    "from google.colab import drive\n",
    "drive.mount('/content/drive')"
   ]
  },
  {
   "cell_type": "code",
   "execution_count": 43,
   "metadata": {
    "id": "TNYZ87XncCIB"
   },
   "outputs": [],
   "source": [
    "train_data = pd.read_csv(\"/content/drive/MyDrive/AskReddit-Dataset/train.csv\")\n",
    "test_data = pd.read_csv(\"/content/drive/MyDrive/AskReddit-Dataset/test.csv\")"
   ]
  },
  {
   "cell_type": "markdown",
   "metadata": {
    "id": "PXgeVcTL-c-G"
   },
   "source": [
    "### EDA"
   ]
  },
  {
   "cell_type": "code",
   "execution_count": 44,
   "metadata": {
    "colab": {
     "base_uri": "https://localhost:8080/",
     "height": 206
    },
    "id": "hXo6HTHNPF3u",
    "outputId": "2d88d323-d480-466b-aec2-78ae65bc01e9"
   },
   "outputs": [
    {
     "data": {
      "text/html": [
       "\n",
       "  <div id=\"df-b1ee16c9-aa01-49cf-bd6f-dcfb2555e49d\">\n",
       "    <div class=\"colab-df-container\">\n",
       "      <div>\n",
       "<style scoped>\n",
       "    .dataframe tbody tr th:only-of-type {\n",
       "        vertical-align: middle;\n",
       "    }\n",
       "\n",
       "    .dataframe tbody tr th {\n",
       "        vertical-align: top;\n",
       "    }\n",
       "\n",
       "    .dataframe thead th {\n",
       "        text-align: right;\n",
       "    }\n",
       "</style>\n",
       "<table border=\"1\" class=\"dataframe\">\n",
       "  <thead>\n",
       "    <tr style=\"text-align: right;\">\n",
       "      <th></th>\n",
       "      <th>qid</th>\n",
       "      <th>question_text</th>\n",
       "      <th>target</th>\n",
       "    </tr>\n",
       "  </thead>\n",
       "  <tbody>\n",
       "    <tr>\n",
       "      <th>0</th>\n",
       "      <td>a3dee568776c08512c89</td>\n",
       "      <td>What is the role of Lua in Civ4?</td>\n",
       "      <td>0</td>\n",
       "    </tr>\n",
       "    <tr>\n",
       "      <th>1</th>\n",
       "      <td>bdb84f519e7b46e7b7bb</td>\n",
       "      <td>What are important chapters in Kannada for 10 ...</td>\n",
       "      <td>0</td>\n",
       "    </tr>\n",
       "    <tr>\n",
       "      <th>2</th>\n",
       "      <td>29c88db470e2eb5c97ad</td>\n",
       "      <td>Do musicians get royalties from YouTube?</td>\n",
       "      <td>0</td>\n",
       "    </tr>\n",
       "    <tr>\n",
       "      <th>3</th>\n",
       "      <td>3387d99bf2c3227ae8f1</td>\n",
       "      <td>What is the difference between Scaling Social ...</td>\n",
       "      <td>0</td>\n",
       "    </tr>\n",
       "    <tr>\n",
       "      <th>4</th>\n",
       "      <td>e79fa5038f765d0f2e7e</td>\n",
       "      <td>Why do elevators go super slow right before th...</td>\n",
       "      <td>0</td>\n",
       "    </tr>\n",
       "  </tbody>\n",
       "</table>\n",
       "</div>\n",
       "      <button class=\"colab-df-convert\" onclick=\"convertToInteractive('df-b1ee16c9-aa01-49cf-bd6f-dcfb2555e49d')\"\n",
       "              title=\"Convert this dataframe to an interactive table.\"\n",
       "              style=\"display:none;\">\n",
       "        \n",
       "  <svg xmlns=\"http://www.w3.org/2000/svg\" height=\"24px\"viewBox=\"0 0 24 24\"\n",
       "       width=\"24px\">\n",
       "    <path d=\"M0 0h24v24H0V0z\" fill=\"none\"/>\n",
       "    <path d=\"M18.56 5.44l.94 2.06.94-2.06 2.06-.94-2.06-.94-.94-2.06-.94 2.06-2.06.94zm-11 1L8.5 8.5l.94-2.06 2.06-.94-2.06-.94L8.5 2.5l-.94 2.06-2.06.94zm10 10l.94 2.06.94-2.06 2.06-.94-2.06-.94-.94-2.06-.94 2.06-2.06.94z\"/><path d=\"M17.41 7.96l-1.37-1.37c-.4-.4-.92-.59-1.43-.59-.52 0-1.04.2-1.43.59L10.3 9.45l-7.72 7.72c-.78.78-.78 2.05 0 2.83L4 21.41c.39.39.9.59 1.41.59.51 0 1.02-.2 1.41-.59l7.78-7.78 2.81-2.81c.8-.78.8-2.07 0-2.86zM5.41 20L4 18.59l7.72-7.72 1.47 1.35L5.41 20z\"/>\n",
       "  </svg>\n",
       "      </button>\n",
       "      \n",
       "  <style>\n",
       "    .colab-df-container {\n",
       "      display:flex;\n",
       "      flex-wrap:wrap;\n",
       "      gap: 12px;\n",
       "    }\n",
       "\n",
       "    .colab-df-convert {\n",
       "      background-color: #E8F0FE;\n",
       "      border: none;\n",
       "      border-radius: 50%;\n",
       "      cursor: pointer;\n",
       "      display: none;\n",
       "      fill: #1967D2;\n",
       "      height: 32px;\n",
       "      padding: 0 0 0 0;\n",
       "      width: 32px;\n",
       "    }\n",
       "\n",
       "    .colab-df-convert:hover {\n",
       "      background-color: #E2EBFA;\n",
       "      box-shadow: 0px 1px 2px rgba(60, 64, 67, 0.3), 0px 1px 3px 1px rgba(60, 64, 67, 0.15);\n",
       "      fill: #174EA6;\n",
       "    }\n",
       "\n",
       "    [theme=dark] .colab-df-convert {\n",
       "      background-color: #3B4455;\n",
       "      fill: #D2E3FC;\n",
       "    }\n",
       "\n",
       "    [theme=dark] .colab-df-convert:hover {\n",
       "      background-color: #434B5C;\n",
       "      box-shadow: 0px 1px 3px 1px rgba(0, 0, 0, 0.15);\n",
       "      filter: drop-shadow(0px 1px 2px rgba(0, 0, 0, 0.3));\n",
       "      fill: #FFFFFF;\n",
       "    }\n",
       "  </style>\n",
       "\n",
       "      <script>\n",
       "        const buttonEl =\n",
       "          document.querySelector('#df-b1ee16c9-aa01-49cf-bd6f-dcfb2555e49d button.colab-df-convert');\n",
       "        buttonEl.style.display =\n",
       "          google.colab.kernel.accessAllowed ? 'block' : 'none';\n",
       "\n",
       "        async function convertToInteractive(key) {\n",
       "          const element = document.querySelector('#df-b1ee16c9-aa01-49cf-bd6f-dcfb2555e49d');\n",
       "          const dataTable =\n",
       "            await google.colab.kernel.invokeFunction('convertToInteractive',\n",
       "                                                     [key], {});\n",
       "          if (!dataTable) return;\n",
       "\n",
       "          const docLinkHtml = 'Like what you see? Visit the ' +\n",
       "            '<a target=\"_blank\" href=https://colab.research.google.com/notebooks/data_table.ipynb>data table notebook</a>'\n",
       "            + ' to learn more about interactive tables.';\n",
       "          element.innerHTML = '';\n",
       "          dataTable['output_type'] = 'display_data';\n",
       "          await google.colab.output.renderOutput(dataTable, element);\n",
       "          const docLink = document.createElement('div');\n",
       "          docLink.innerHTML = docLinkHtml;\n",
       "          element.appendChild(docLink);\n",
       "        }\n",
       "      </script>\n",
       "    </div>\n",
       "  </div>\n",
       "  "
      ],
      "text/plain": [
       "                    qid  ... target\n",
       "0  a3dee568776c08512c89  ...      0\n",
       "1  bdb84f519e7b46e7b7bb  ...      0\n",
       "2  29c88db470e2eb5c97ad  ...      0\n",
       "3  3387d99bf2c3227ae8f1  ...      0\n",
       "4  e79fa5038f765d0f2e7e  ...      0\n",
       "\n",
       "[5 rows x 3 columns]"
      ]
     },
     "execution_count": 44,
     "metadata": {},
     "output_type": "execute_result"
    }
   ],
   "source": [
    "train_data.head()"
   ]
  },
  {
   "cell_type": "code",
   "execution_count": 45,
   "metadata": {
    "colab": {
     "base_uri": "https://localhost:8080/"
    },
    "id": "Acij6-9wPM6r",
    "outputId": "d41d42f3-a174-4007-a033-f2d3262f4549"
   },
   "outputs": [
    {
     "name": "stdout",
     "output_type": "stream",
     "text": [
      "<class 'pandas.core.frame.DataFrame'>\n",
      "RangeIndex: 653061 entries, 0 to 653060\n",
      "Data columns (total 3 columns):\n",
      " #   Column         Non-Null Count   Dtype \n",
      "---  ------         --------------   ----- \n",
      " 0   qid            653061 non-null  object\n",
      " 1   question_text  653061 non-null  object\n",
      " 2   target         653061 non-null  int64 \n",
      "dtypes: int64(1), object(2)\n",
      "memory usage: 14.9+ MB\n"
     ]
    }
   ],
   "source": [
    "train_data.info()"
   ]
  },
  {
   "cell_type": "code",
   "execution_count": 46,
   "metadata": {
    "colab": {
     "base_uri": "https://localhost:8080/"
    },
    "id": "8j6Eeq5KW1OK",
    "outputId": "c3353ef1-4eaf-4f9f-ae94-507a870b4ca6"
   },
   "outputs": [
    {
     "data": {
      "text/plain": [
       "(653061, 3)"
      ]
     },
     "execution_count": 46,
     "metadata": {},
     "output_type": "execute_result"
    }
   ],
   "source": [
    "train_data.shape"
   ]
  },
  {
   "cell_type": "code",
   "execution_count": 47,
   "metadata": {
    "colab": {
     "base_uri": "https://localhost:8080/"
    },
    "id": "mXcmWZxgXBCj",
    "outputId": "0932aad9-84ad-4e2d-be54-2bc03b2cb7d8"
   },
   "outputs": [
    {
     "data": {
      "text/plain": [
       "(653061, 2)"
      ]
     },
     "execution_count": 47,
     "metadata": {},
     "output_type": "execute_result"
    }
   ],
   "source": [
    "test_data.shape"
   ]
  },
  {
   "cell_type": "code",
   "execution_count": 48,
   "metadata": {
    "colab": {
     "base_uri": "https://localhost:8080/"
    },
    "id": "Jl2omaErsGJh",
    "outputId": "264b7d1d-34e1-4d2c-f03c-040cba49f041"
   },
   "outputs": [
    {
     "data": {
      "text/plain": [
       "qid              0\n",
       "question_text    0\n",
       "target           0\n",
       "dtype: int64"
      ]
     },
     "execution_count": 48,
     "metadata": {},
     "output_type": "execute_result"
    }
   ],
   "source": [
    "train_data.isna().sum() "
   ]
  },
  {
   "cell_type": "code",
   "execution_count": 49,
   "metadata": {
    "colab": {
     "base_uri": "https://localhost:8080/"
    },
    "id": "2raYP4o6sLsV",
    "outputId": "a7d159a7-f658-4eb1-fe3f-3884e46064ff"
   },
   "outputs": [
    {
     "data": {
      "text/plain": [
       "qid              0\n",
       "question_text    0\n",
       "target           0\n",
       "dtype: int64"
      ]
     },
     "execution_count": 49,
     "metadata": {},
     "output_type": "execute_result"
    }
   ],
   "source": [
    "(train_data == \"?\").sum() "
   ]
  },
  {
   "cell_type": "code",
   "execution_count": 50,
   "metadata": {
    "colab": {
     "base_uri": "https://localhost:8080/"
    },
    "id": "Cg8Rb97dN7Ns",
    "outputId": "c41ab34a-03e7-4ebf-d870-9b0332724a36"
   },
   "outputs": [
    {
     "data": {
      "text/plain": [
       "0"
      ]
     },
     "execution_count": 50,
     "metadata": {},
     "output_type": "execute_result"
    }
   ],
   "source": [
    "train_data.duplicated().sum()"
   ]
  },
  {
   "cell_type": "code",
   "execution_count": 51,
   "metadata": {
    "colab": {
     "base_uri": "https://localhost:8080/"
    },
    "id": "bG0fHdGmhYoA",
    "outputId": "bac6ef4e-d04e-4b91-897f-261164a696c9"
   },
   "outputs": [
    {
     "data": {
      "text/plain": [
       "0    612656\n",
       "1     40405\n",
       "Name: target, dtype: int64"
      ]
     },
     "execution_count": 51,
     "metadata": {},
     "output_type": "execute_result"
    }
   ],
   "source": [
    "train_data['target'].value_counts()"
   ]
  },
  {
   "cell_type": "code",
   "execution_count": 52,
   "metadata": {
    "colab": {
     "base_uri": "https://localhost:8080/",
     "height": 353
    },
    "id": "WOqkBQRUO2n-",
    "outputId": "ad1c47df-17fb-46a1-d4de-e5151e745f40"
   },
   "outputs": [
    {
     "name": "stderr",
     "output_type": "stream",
     "text": [
      "/usr/local/lib/python3.7/dist-packages/seaborn/_decorators.py:43: FutureWarning: Pass the following variable as a keyword arg: x. From version 0.12, the only valid positional argument will be `data`, and passing other arguments without an explicit keyword will result in an error or misinterpretation.\n",
      "  FutureWarning\n"
     ]
    },
    {
     "data": {
      "text/plain": [
       "<matplotlib.axes._subplots.AxesSubplot at 0x7f16ef6b6150>"
      ]
     },
     "execution_count": 52,
     "metadata": {},
     "output_type": "execute_result"
    },
    {
     "data": {
      "image/png": "[encoded data removed]",
      "text/plain": [
       "<Figure size 432x288 with 1 Axes>"
      ]
     },
     "metadata": {
      "needs_background": "light"
     },
     "output_type": "display_data"
    }
   ],
   "source": [
    "sns.countplot(train_data['target']) "
   ]
  },
  {
   "cell_type": "code",
   "execution_count": 53,
   "metadata": {
    "colab": {
     "base_uri": "https://localhost:8080/"
    },
    "id": "08dXEn_9Ogqb",
    "outputId": "4b58de18-d964-451d-9130-a3c5af9cd226"
   },
   "outputs": [
    {
     "data": {
      "text/plain": [
       "qid              0\n",
       "question_text    0\n",
       "dtype: int64"
      ]
     },
     "execution_count": 53,
     "metadata": {},
     "output_type": "execute_result"
    }
   ],
   "source": [
    "test_data.isna().sum()"
   ]
  },
  {
   "cell_type": "code",
   "execution_count": 54,
   "metadata": {
    "colab": {
     "base_uri": "https://localhost:8080/"
    },
    "id": "HNPwf49hOgqe",
    "outputId": "a827deec-3411-465a-885d-bb21a9f1499e"
   },
   "outputs": [
    {
     "data": {
      "text/plain": [
       "qid              0\n",
       "question_text    0\n",
       "dtype: int64"
      ]
     },
     "execution_count": 54,
     "metadata": {},
     "output_type": "execute_result"
    }
   ],
   "source": [
    "(test_data == \"?\").sum() "
   ]
  },
  {
   "cell_type": "code",
   "execution_count": 55,
   "metadata": {
    "colab": {
     "base_uri": "https://localhost:8080/"
    },
    "id": "5_RjTdmdOtIT",
    "outputId": "6714e31d-1426-4ae6-93e5-f718a6a570a3"
   },
   "outputs": [
    {
     "data": {
      "text/plain": [
       "0"
      ]
     },
     "execution_count": 55,
     "metadata": {},
     "output_type": "execute_result"
    }
   ],
   "source": [
    "test_data.duplicated().sum()"
   ]
  },
  {
   "cell_type": "code",
   "execution_count": 56,
   "metadata": {
    "id": "H0cQWfiuW5f0"
   },
   "outputs": [],
   "source": [
    "main_data = train_data.append(test_data) "
   ]
  },
  {
   "cell_type": "markdown",
   "metadata": {
    "id": "xSdubrQ5c7uI"
   },
   "source": [
    "## PreProcessing"
   ]
  },
  {
   "cell_type": "code",
   "execution_count": 57,
   "metadata": {
    "id": "U2lqtMT_xS8x"
   },
   "outputs": [],
   "source": [
    "def remove_punctuation(text):\n",
    "  punctuationfree=\"\".join([i for i in text if i not in string.punctuation]) \n",
    "  return punctuationfree \n",
    "def tokenization(text):\n",
    "  tokens = re.split('\\W+',text) \n",
    "  return tokens \n",
    "def remove_stopwords(text): \n",
    "  stopwords1 = nltk.corpus.stopwords.words('english') \n",
    "  output= [i for i in text if i not in stopwords1] \n",
    "  return output \n",
    "def lemmatizer(text): \n",
    "  wordnet_lemmatizer  = nltk.WordNetLemmatizer() \n",
    "  lemm_text = [wordnet_lemmatizer.lemmatize(word) for word in text] \n",
    "  return lemm_text \n",
    "def stemming(text): \n",
    "  porter_stemmer = nltk.PorterStemmer() \n",
    "  stem_text = [porter_stemmer.stem(word) for word in text] \n",
    "  return stem_text "
   ]
  },
  {
   "cell_type": "code",
   "execution_count": 58,
   "metadata": {
    "id": "myIMhUHKO-OO"
   },
   "outputs": [],
   "source": [
    "# main_data['question_text'] = main_data['question_text'].apply(lambda x: x.lower()) \n",
    "# main_data['question_text'] = main_data['question_text'].apply(lambda x: remove_punctuation(x)) \n",
    "# main_data['question_text'] = main_data['question_text'].apply(lambda x: tokenization(x)) \n",
    "# main_data['question_text'] = main_data['question_text'].apply(lambda x: remove_stopwords(x)) \n",
    "# main_data['question_text'] = main_data['question_text'].apply(lambda x: lemmatizer(x)) \n",
    "# main_data['question_text'] = main_data['question_text'].apply(lambda x: stemming(x)) \n",
    "# main_data['question_text'] = main_data['question_text'].str.join(\" \") "
   ]
  },
  {
   "cell_type": "code",
   "execution_count": 59,
   "metadata": {
    "id": "o6JY21mrdOyw"
   },
   "outputs": [],
   "source": [
    "count_vectorizer = CountVectorizer(ngram_range=(1,4)) \n",
    "final_data = count_vectorizer.fit_transform(main_data['question_text'])\n",
    "# tfidf_vectorizer = TfidfVectorizer() \n",
    "# final_data = tfidf_vectorizer.fit_transform(final_data)"
   ]
  },
  {
   "cell_type": "code",
   "execution_count": 60,
   "metadata": {
    "id": "WJFT_ftxsLll"
   },
   "outputs": [],
   "source": [
    "# final_data = final_data.todense()"
   ]
  },
  {
   "cell_type": "code",
   "execution_count": 61,
   "metadata": {
    "colab": {
     "base_uri": "https://localhost:8080/"
    },
    "id": "astsTmyXYd2V",
    "outputId": "1a2b4734-d79d-4007-914b-e519449d751d"
   },
   "outputs": [
    {
     "data": {
      "text/plain": [
       "(1306122, 20650674)"
      ]
     },
     "execution_count": 61,
     "metadata": {},
     "output_type": "execute_result"
    }
   ],
   "source": [
    "final_data.shape "
   ]
  },
  {
   "cell_type": "code",
   "execution_count": 62,
   "metadata": {
    "id": "IMvUKgqTWpfR"
   },
   "outputs": [],
   "source": [
    "questions = final_data[:653061,:]\n",
    "final_test_data  = final_data[653061:,:] "
   ]
  },
  {
   "cell_type": "code",
   "execution_count": 63,
   "metadata": {
    "id": "wXaYzuu4aJp2"
   },
   "outputs": [],
   "source": [
    "# type(final_train_data)"
   ]
  },
  {
   "cell_type": "code",
   "execution_count": 64,
   "metadata": {
    "id": "AFaROLuBYQ96"
   },
   "outputs": [],
   "source": [
    "# final_train_data.shape"
   ]
  },
  {
   "cell_type": "code",
   "execution_count": 65,
   "metadata": {
    "id": "oYtXeP6Gto1q"
   },
   "outputs": [],
   "source": [
    "targets = train_data['target'].to_numpy()"
   ]
  },
  {
   "cell_type": "code",
   "execution_count": 66,
   "metadata": {
    "colab": {
     "base_uri": "https://localhost:8080/"
    },
    "id": "-wYCtEA0t4Zf",
    "outputId": "265213e8-1d15-4ea4-f060-513d6e3c8667"
   },
   "outputs": [
    {
     "data": {
      "text/plain": [
       "numpy.ndarray"
      ]
     },
     "execution_count": 66,
     "metadata": {},
     "output_type": "execute_result"
    }
   ],
   "source": [
    "type(targets)"
   ]
  },
  {
   "cell_type": "code",
   "execution_count": 67,
   "metadata": {
    "id": "2Pg2KKEWdi4A"
   },
   "outputs": [],
   "source": [
    "# Stratified train test split \n",
    "train_X, test_X, train_y, test_y = train_test_split(questions, targets, test_size=0.2, random_state=40, stratify=targets) "
   ]
  },
  {
   "cell_type": "code",
   "execution_count": 68,
   "metadata": {
    "id": "4sgiIPeQ4OtK"
   },
   "outputs": [],
   "source": [
    "# svd = TruncatedSVD(n_components=450)\n",
    "# train_X = svd.fit_transform(train_X)\n",
    "# test_X = svd.transform(test_X) "
   ]
  },
  {
   "cell_type": "code",
   "execution_count": 69,
   "metadata": {
    "id": "Jg2f-0TIixIu"
   },
   "outputs": [],
   "source": [
    "# pca = PCA(n_components=300)\n",
    "# train_X = pca.fit_transform(train_X)\n",
    "# test_X = pca.transform(test_X)"
   ]
  },
  {
   "cell_type": "code",
   "execution_count": 70,
   "metadata": {
    "id": "Jp0RDIpe0YQL"
   },
   "outputs": [],
   "source": [
    "# parameters = {'solver':['liblinear', 'sag', 'saga'], 'C':[0,0.3]}\n",
    "# lr = LogisticRegression()\n",
    "# gscv = GridSearchCV(lr, parameters)\n",
    "# gscv.fit(questions, targets)\n",
    "# gscv.best_params_ "
   ]
  },
  {
   "cell_type": "code",
   "execution_count": 71,
   "metadata": {
    "id": "JHfhRr6AQil1"
   },
   "outputs": [],
   "source": [
    "# train = train_X.toarray()"
   ]
  },
  {
   "cell_type": "markdown",
   "metadata": {
    "id": "Q7qwn5-7Kfyz"
   },
   "source": [
    "##  Model Fitting"
   ]
  },
  {
   "cell_type": "code",
   "execution_count": 72,
   "metadata": {
    "id": "CpTTyDBwGrgw"
   },
   "outputs": [],
   "source": [
    "# model = BaggingClassifier(base_estimator=SVC(),n_estimators=1000, random_state=0, max_samples = 30)"
   ]
  },
  {
   "cell_type": "code",
   "execution_count": 73,
   "metadata": {
    "id": "GKwdNBpSk16n"
   },
   "outputs": [],
   "source": [
    "# model = GaussianNB()"
   ]
  },
  {
   "cell_type": "code",
   "execution_count": 74,
   "metadata": {
    "id": "C95YjSCdaoNy"
   },
   "outputs": [],
   "source": [
    "# model = SVC(kernel = 'rbf',class_weight = \"balanced\",C = 0.5, probability = True) "
   ]
  },
  {
   "cell_type": "code",
   "execution_count": 75,
   "metadata": {
    "id": "_Vfy0wzbGhn9"
   },
   "outputs": [],
   "source": [
    "# model = AdaBoostClassifier(n_estimators=1000, random_state=0,learning_rate = 0.1)"
   ]
  },
  {
   "cell_type": "code",
   "execution_count": 76,
   "metadata": {
    "id": "NPLsOBO5G_N8"
   },
   "outputs": [],
   "source": [
    "# model = DecisionTreeClassifier(class_weight = \"balanced\" ,random_state=0) "
   ]
  },
  {
   "cell_type": "code",
   "execution_count": 77,
   "metadata": {
    "id": "asgJSpapKfyz"
   },
   "outputs": [],
   "source": [
    "model = LogisticRegression(C=0.77, class_weight= {0:0.25,1:1}, solver = 'liblinear', max_iter=10000, penalty = 'l1')"
   ]
  },
  {
   "cell_type": "code",
   "execution_count": 78,
   "metadata": {
    "colab": {
     "base_uri": "https://localhost:8080/"
    },
    "id": "0WnsqQySann7",
    "outputId": "20a66305-92eb-4766-bcfc-c19a89084313"
   },
   "outputs": [
    {
     "data": {
      "text/plain": [
       "LogisticRegression(C=0.77, class_weight={0: 0.25, 1: 1}, max_iter=10000,\n",
       "                   penalty='l1', solver='liblinear')"
      ]
     },
     "execution_count": 78,
     "metadata": {},
     "output_type": "execute_result"
    }
   ],
   "source": [
    "model.fit(train_X, train_y) "
   ]
  },
  {
   "cell_type": "code",
   "execution_count": 79,
   "metadata": {
    "id": "Dg3XKJ_PKfy0"
   },
   "outputs": [],
   "source": [
    "train_yhat = model.predict(train_X)\n",
    "test_yhat = model.predict(test_X) "
   ]
  },
  {
   "cell_type": "code",
   "execution_count": 80,
   "metadata": {
    "colab": {
     "base_uri": "https://localhost:8080/"
    },
    "id": "FI9WZ7GwKfy0",
    "outputId": "4890ec22-29a5-466f-c5fc-665d93f98fe3"
   },
   "outputs": [
    {
     "data": {
      "text/plain": [
       "0.700112553874873"
      ]
     },
     "execution_count": 80,
     "metadata": {},
     "output_type": "execute_result"
    }
   ],
   "source": [
    "metrics.f1_score(train_y, train_yhat)"
   ]
  },
  {
   "cell_type": "code",
   "execution_count": 81,
   "metadata": {
    "colab": {
     "base_uri": "https://localhost:8080/"
    },
    "id": "9cW7IjbSKfy0",
    "outputId": "a9f6f6b7-ab51-4d64-899b-31bcc0a19b19"
   },
   "outputs": [
    {
     "data": {
      "text/plain": [
       "0.6307546008838172"
      ]
     },
     "execution_count": 81,
     "metadata": {},
     "output_type": "execute_result"
    }
   ],
   "source": [
    "metrics.f1_score(test_y, test_yhat)"
   ]
  },
  {
   "cell_type": "code",
   "execution_count": 82,
   "metadata": {
    "id": "MrcZWSq9ZMq2"
   },
   "outputs": [],
   "source": [
    "# metrics.confusion_matrix(test_y,test_yhat)"
   ]
  },
  {
   "cell_type": "markdown",
   "metadata": {
    "id": "wKHw9zmmKfy1"
   },
   "source": [
    "##  Final fit"
   ]
  },
  {
   "cell_type": "code",
   "execution_count": null,
   "metadata": {
    "id": "6VHz8iElnbz7"
   },
   "outputs": [],
   "source": [
    "model.fit(questions, train_data['target'])"
   ]
  },
  {
   "cell_type": "code",
   "execution_count": null,
   "metadata": {
    "id": "m49PDWhoKfy1"
   },
   "outputs": [],
   "source": [
    "yhat = model.predict(final_test_data)\n",
    "test_data[\"target\"] = yhat \n",
    "to_submit = test_data[[\"qid\", \"target\"]]\n",
    "to_submit.to_csv(\"project_submission.csv\", index=False) \n",
    "files.download(f'project_submission.csv')"
   ]
  },
  {
   "cell_type": "code",
   "execution_count": null,
   "metadata": {
    "id": "niex0_2dbZST"
   },
   "outputs": [],
   "source": [
    "np.unique(yhat,return_counts=True)"
   ]
  }
 ],
 "metadata": {
  "colab": {
   "collapsed_sections": [],
   "name": "Final.ipynb",
   "provenance": []
  },
  "kernelspec": {
   "display_name": "Python 3 (ipykernel)",
   "language": "python",
   "name": "python3"
  },
  "language_info": {
   "codemirror_mode": {
    "name": "ipython",
    "version": 3
   },
   "file_extension": ".py",
   "mimetype": "text/x-python",
   "name": "python",
   "nbconvert_exporter": "python",
   "pygments_lexer": "ipython3",
   "version": "3.10.9"
  }
 },
 "nbformat": 4,
 "nbformat_minor": 1
}
